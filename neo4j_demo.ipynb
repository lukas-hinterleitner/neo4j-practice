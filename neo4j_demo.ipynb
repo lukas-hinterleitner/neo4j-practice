{
 "cells": [
  {
   "cell_type": "markdown",
   "metadata": {
    "pycharm": {
     "name": "#%% md\n"
    }
   },
   "source": [
    "# Neo4J - with Python\n",
    "##### Lukas Hinterleitner, Daniel Nepp\n",
    "For a complete documentation visit: https://neo4j.com/developer/python/\n",
    "\n",
    "---\n",
    "\n",
    "## Installation\n",
    "### 1. Download and install Neo4j Desktop:\n",
    "https://neo4j.com/download/\n",
    "\n",
    "Before you can download the installation file you have to provide your data.\n",
    "If you don't want give your data away, you can type in random stuff :)\n",
    "\n",
    "An activation key gets displayed while downloading (shown in the picture below).\n",
    "Keep it, you will need it later during the installation.\n",
    "<br><br>\n",
    "\n",
    "![Neo4J Activation Key](screenshots/key.png)\n",
    "<br><br>\n",
    "\n",
    "After the installation finished you should see the home screen which is displayed in the image below.\n",
    "We will get back to it later when we create our first Neo4J graph database.\n",
    "\n",
    "![Home screen Neo4J Desktop](screenshots/home_screen.png)\n",
    "<br><br>\n",
    "\n",
    "### 2. Create a Conda-Environment :\n",
    "\n",
    "`$ conda create --name neo4j python=3.8.2`\n",
    "\n",
    "\n",
    "### 3. Activate Conda-Environment :\n",
    "\n",
    "`$ conda activate neo4j`\n",
    "\n",
    "\n",
    "### 4. Install the Neo4j driver :\n",
    "https://anaconda.org/conda-forge/neo4j-python-driver\n",
    "\n",
    "`$ conda install -c conda-forge neo4j-python-driver`\n",
    "\n",
    "### 5. Install jupyter notebook : ##\n",
    "\n",
    "`$ conda install -c anaconda jupyter`\n",
    "\n",
    "or install jupyter lab\n",
    "\n",
    "`$ conda install -c conda-forge jupyterlab`\n",
    "\n",
    "or install jupyter in pycharm...\n",
    "\n",
    "\n",
    "---\n",
    "\n",
    "## Using Neo4j : ##"
   ]
  },
  {
   "cell_type": "code",
   "execution_count": null,
   "outputs": [],
   "source": [
    "from neo4j import GraphDatabase\n",
    "\n",
    "uri, user, password = 'uri/', 'name', 'password'\n",
    "\n",
    "def _create_and_return_greeting(tx, message):\n",
    "    result = tx.run(\"CREATE (a:Greeting) \"\n",
    "                    \"SET a.message = $message \"\n",
    "                    \"RETURN a.message + ', from node ' + id(a)\", message=message)\n",
    "    return result.single()[0]\n",
    "\n",
    "driver = GraphDatabase.driver(uri, auth=(user, password))\n",
    "\n",
    "with driver.session() as session:\n",
    "    greeting = session.write_transaction(_create_and_return_greeting, \"Hello World!\")\n",
    "    print(greeting)\n",
    "\n",
    "driver.close()"
   ],
   "metadata": {
    "collapsed": false,
    "pycharm": {
     "name": "#%%\n"
    }
   }
  },
  {
   "cell_type": "markdown",
   "source": [
    "... the above is a neo hello world example! :)\n"
   ],
   "metadata": {
    "collapsed": false
   }
  }
 ],
 "metadata": {
  "kernelspec": {
   "display_name": "Python 3",
   "language": "python",
   "name": "python3"
  },
  "language_info": {
   "codemirror_mode": {
    "name": "ipython",
    "version": 3
   },
   "file_extension": ".py",
   "mimetype": "text/x-python",
   "name": "python",
   "nbconvert_exporter": "python",
   "pygments_lexer": "ipython3",
   "version": "3.8.3"
  }
 },
 "nbformat": 4,
 "nbformat_minor": 1
}