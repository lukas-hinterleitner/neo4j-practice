{
 "cells": [
  {
   "cell_type": "markdown",
   "metadata": {},
   "source": [
    "# Neo4J - with Python #\n",
    "##### Lukas Hinterleitner, Daniel Nepp #####\n",
    "For a complete documentation visit: https://neo4j.com/developer/python/\n",
    "\n",
    "---\n",
    "\n",
    "## Installation ##\n",
    "### 1. Download and install Neo4j Desktop: ###\n",
    "https://neo4j.com/download/\n",
    "\n",
    "Before you can download the installation file you have to provide your data.\n",
    "If you don't want give your data away, you can type in random stuff :)\n",
    "\n",
    "An activation key gets displayed while downloading (shown in the picture below).\n",
    "Keep it, you will need it later during the installation.\n",
    "<br><br>\n",
    "\n",
    "![Neo4J Activation Key](screenshots/key.png)\n",
    "<br><br>\n",
    "\n",
    "After the installation finished you should see the home screen which is displayed in the image below.\n",
    "We will get back to it later when we create our first Neo4J graph database.\n",
    "\n",
    "![Home screen Neo4J Desktop](screenshots/home_screen.png)\n",
    "<br><br>\n",
    "\n",
    "### 2. Create a Conda-Environment : ###\n",
    "\n",
    "`$ conda create --name neo4j python=3.8.2`\n",
    "\n",
    "\n",
    "### 3. Activate Conda-Environment : ###\n",
    "\n",
    "`$ conda activate neo4j`\n",
    "\n",
    "\n",
    "### 4. Install the Neo4j driver : ###\n",
    "https://anaconda.org/conda-forge/neo4j-python-driver\n",
    "\n",
    "`$ conda install -c conda-forge neo4j-python-driver`\n",
    "\n",
    "### 5. Install jupyter notebook : ###\n",
    "\n",
    "`$ conda install -c anaconda jupyter`\n",
    "\n",
    "or install jupyter lab\n",
    "\n",
    "`$ conda install -c conda-forge jupyterlab`\n",
    "\n",
    "or install jupyter in pycharm...\n",
    "\n",
    "\n",
    "## Creating Neo4J Database : ##\n",
    "\n",
    "Description...\n",
    "\n",
    "![Home screen Neo4J Desktop](screenshots/create_local_database.png)\n",
    "<br><br>\n",
    "\n",
    "Description...\n",
    "\n",
    "![Home screen Neo4J Desktop](screenshots/create_database.png)\n",
    "<br><br>\n",
    "\n",
    "Description...\n",
    "\n",
    "![Home screen Neo4J Desktop](screenshots/database_after_installation.png)\n",
    "<br><br>\n",
    "\n",
    "Description...\n",
    "\n",
    "![Home screen Neo4J Desktop](screenshots/database_settings.png)\n",
    "<br><br>\n",
    "\n",
    "Description...\n",
    "\n",
    "![Home screen Neo4J Desktop](screenshots/neo4j_browser_home_screen.png)\n",
    "<br><br>\n",
    "\n",
    "---\n",
    "\n",
    "## Using Neo4j : ##\n",
    "\n",
    "The code below is a Neo4J Python hello world example! :)\n"
   ]
  },
  {
   "cell_type": "code",
   "execution_count": 2,
   "metadata": {
    "pycharm": {
     "name": "#%% code\n"
    }
   },
   "outputs": [
    {
     "name": "stdout",
     "output_type": "stream",
     "text": [
      "Hello World!, from node 3\n"
     ]
    }
   ],
   "source": [
    "from neo4j import GraphDatabase\n",
    "\n",
    "uri, user, password = 'bolt://localhost:7687', 'neo4j', 'neo4j_'\n",
    "\n",
    "def _create_and_return_greeting(tx, message):\n",
    "    result = tx.run(\"CREATE (a:Greeting) \"\n",
    "                    \"SET a.message = $message \"\n",
    "                    \"RETURN a.message + ', from node ' + id(a)\", message=message)\n",
    "    return result.single()[0]\n",
    "\n",
    "driver = GraphDatabase.driver(uri, auth=(user, password))\n",
    "\n",
    "with driver.session() as session:\n",
    "    greeting = session.write_transaction(_create_and_return_greeting, \"Hello World!\")\n",
    "    print(greeting)\n",
    "\n",
    "driver.close()"
   ]
  },
  {
   "cell_type": "markdown",
   "metadata": {},
   "source": [
    "### 1. Create Neo4J Entities : ###\n",
    "\n",
    "```sql\n",
    "CREATE (\n",
    "        TheMatrix:Movie\n",
    "        {title:'The Matrix', released:1999, tagline:'Welcome to the Real World'}\n",
    "        )\n",
    "```\n",
    "\n",
    "```sql\n",
    "CREATE (\n",
    "        Keanu:Person\n",
    "        {name:'Keanu Reeves', born:1964}\n",
    "        )\n",
    "```\n",
    "\n",
    "### 2. Create Neo4J Relations : ###\n",
    "\n",
    "```sql\n",
    "(Keanu) - [:ACTED_IN { roles : [ 'Neo' ]}] -> (TheMatrix)\n",
    "```\n",
    "\n",
    "```sql\n",
    "(LillyW) - [:DIRECTED] -> (TheMatrix)\n",
    "```\n",
    "\n",
    "### 3. Find Neo4J Entities : ###\n",
    "\n",
    "Find Keanu Reeves - returns single entity:\n",
    "```sql\n",
    "MATCH (keanu {name: \"Keanu Reeves\"}) RETURN keanu\n",
    "```\n",
    "\n",
    "Find The Matrix - returns single entity:\n",
    "```sql\n",
    "MATCH (theMatrix {title: \"The Matrix\"}) RETURN theMatrix\n",
    "```\n",
    "\n",
    "Find ten people - returns ten entities:\n",
    "```sql\n",
    "MATCH (people:Person) RETURN people.name LIMIT 10\n",
    "```\n",
    "\n",
    "Find movies produced in the 90's - returns all movies between 1990 and 2000:\n",
    "```sql\n",
    "MATCH (nineties:Movie) WHERE nineties.released >= 1990 AND nineties.released < 2000 RETURN nineties.title\n",
    "```\n",
    "\n",
    "List all Keanu Reeves movies - returns all movies where Keanu Reeves acted in:\n",
    "```sql\n",
    "MATCH (keanu:Person {name: \"Keanu Reeves\"}) - [:ACTED_IN] -> (keanuMovies) RETURN keanu,keanuMovies\n",
    "```\n",
    "\n",
    "Who directed \"The Matrix\"? - returns all directors of The Matrix:\n",
    "```sql\n",
    "MATCH (theMatrix {title: \"The Matrix\"}) <- [:DIRECTED] - (directors) RETURN directors.name\n",
    "```\n",
    "\n",
    "Keanu Reeves' co-actors -- returns all actors who acted in any movie aside Keanu Reeves:\n",
    "```sql\n",
    "MATCH (keanu:Person {name:\"Keanu Reeves\"}) - [:ACTED_IN] -> (m) <- [:ACTED_IN] - (coActors) RETURN coActors.name\n",
    "```\n",
    "\n",
    "How people are related to \"The Matrix\" - returns all people inclusive their relations to the movie The Matrix:\n",
    "```sql\n",
    "MATCH (people:Person) - [relatedTo] - (:Movie {title: \"The Matrix\"}) RETURN people.name, Type(relatedTo), relatedTo\n",
    "```\n",
    "\n",
    "Movies and actors up to 4 \"hops\" away from Kevin Bacon:\n",
    "```sql\n",
    "MATCH (bacon:Person {name:\"Kevin Bacon\"}) - [*1..4] - (hollywood)\n",
    "RETURN DISTINCT hollywood\n",
    "```\n",
    "Note: hollywood here is just a placeholder for any entity\n",
    "\n",
    "Bacon path, the shortest path of any relationships to Meg Ryan:\n",
    "```sql\n",
    "MATCH p=shortestPath(\n",
    "(bacon:Person {name:\"Kevin Bacon\"}) - [*] - (meg:Person {name:\"Meg Ryan\"})\n",
    ")\n",
    "RETURN p\n",
    "```\n",
    "\n",
    "Extend Tom Hanks co-actors, to find co-co-actors who haven't worked with Tom Hanks:\n",
    "```sql\n",
    "MATCH (tom:Person {name:\"Tom Hanks\"})-[:ACTED_IN]->(m)<-[:ACTED_IN]-(coActors),\n",
    "    (coActors)-[:ACTED_IN]->(m2)<-[:ACTED_IN]-(cocoActors)\n",
    "WHERE NOT (tom)-[:ACTED_IN]->()<-[:ACTED_IN]-(cocoActors) AND tom <> cocoActors\n",
    "RETURN cocoActors.name AS Recommended, count(*) AS Strength ORDER BY Strength DESC\n",
    "```\n",
    "\n",
    "Find someone to introduce Tom Hanks to Tom Cruise:\n",
    "```sql\n",
    "MATCH (tom:Person {name:\"Tom Hanks\"})-[:ACTED_IN]->(m)<-[:ACTED_IN]-(coActors),\n",
    "  (coActors)-[:ACTED_IN]->(m2)<-[:ACTED_IN]-(cruise:Person {name:\"Tom Cruise\"})\n",
    "RETURN tom, m, coActors, m2, cruise\n",
    "```\n",
    "\n",
    "### 4. Delete Neo4J Graph : ###\n",
    "Delete all Movie and Person nodes, and their relationships:\n",
    "```sql\n",
    "MATCH (n) DETACH DELETE n\n",
    "```\n",
    "\n",
    "Note you only need to compare property values like this when first creating relationships\n",
    "Prove that the Movie Graph is gone\n",
    "```sql\n",
    "MATCH (n) RETURN n\n",
    "```\n"
   ]
  },
  {
   "cell_type": "markdown",
   "metadata": {},
   "source": [
    "## Let's have some fun : ##"
   ]
  },
  {
   "cell_type": "code",
   "execution_count": 3,
   "metadata": {
    "pycharm": {
     "name": "#%%\n"
    }
   },
   "outputs": [],
   "source": [
    "# importing GraphDatabase\n",
    "from neo4j import GraphDatabase\n",
    "\n",
    "# Connection data :\n",
    "uri, user, password = 'bolt://localhost:7687', 'neo4j', 'neo4j_'\n",
    "\n",
    "# Connecting...\n",
    "driver = GraphDatabase.driver(uri, auth=(user, password))\n"
   ]
  },
  {
   "cell_type": "markdown",
   "metadata": {},
   "source": [
    "... now let's run queries ..."
   ]
  },
  {
   "cell_type": "code",
   "execution_count": 60,
   "metadata": {
    "pycharm": {
     "name": "#%% code\n"
    }
   },
   "outputs": [],
   "source": [
    "# resetting database\n",
    "\n",
    "with driver.session() as session:\n",
    "    def _q(query) : return session.run(query)\n",
    "    #---------------------------------------\n",
    "\n",
    "    _q(\"MATCH (n) DETACH DELETE n\") # remove all graphs and nodes\n",
    "\n",
    "    #---------------------------------------\n",
    "driver.close()"
   ]
  },
  {
   "cell_type": "markdown",
   "metadata": {},
   "source": [
    "... insert a person ..."
   ]
  },
  {
   "cell_type": "code",
   "execution_count": 62,
   "metadata": {
    "pycharm": {
     "name": "#%% code\n"
    }
   },
   "outputs": [
    {
     "name": "stdout",
     "output_type": "stream",
     "text": [
      "person created: Jammie Tullin\n",
      "person created: Tina Tuna\n",
      "person created: Marry Murry\n",
      "person created: Julian Jingle\n",
      "person created: Sam Sum\n",
      "person created: Lukas Hinterleitner\n",
      "person created: Daniel Nepp\n"
     ]
    }
   ],
   "source": [
    "with driver.session() as session:\n",
    "    def _q(query) : return session.run(query)\n",
    "    #---------------------------------------\n",
    "\n",
    "    persons = [\n",
    "        {'name':'Jammie Tullin', 'born':'1999'},\n",
    "        {'name':'Tina Tuna', 'born':'1995'},\n",
    "        {'name':'Marry Murry', 'born':'1992'},\n",
    "        {'name':'Julian Jingle', 'born':'1965'},\n",
    "        {'name':'Sam Sum', 'born':'1987'},\n",
    "        {'name':'Lukas Hinterleitner', 'born':'1998'},\n",
    "        {'name':'Daniel Nepp', 'born':'1997'}\n",
    "    ] \n",
    "\n",
    "    for person in persons:\n",
    "        result = _q(\"CREATE (p:Person {name:'%s', born:'%s'}) RETURN p\" % (person['name'],person['born']))\n",
    "        for record in result: print(\"Person created:\", record['p']['name']) \n",
    "\n",
    "    #---------------------------------------\n",
    "driver.close()"
   ]
  },
  {
   "cell_type": "code",
   "execution_count": 63,
   "metadata": {
    "pycharm": {
     "name": "#%%\n"
    }
   },
   "outputs": [
    {
     "name": "stdout",
     "output_type": "stream",
     "text": [
      "Movie created: Neo4j\n",
      "Movie created: Matrix4j\n",
      "Movie created: Titanic4j\n",
      "Movie created: 4j4j\n",
      "Movie created: Python - attack of the snake\n",
      "Movie created: Mr.Bean4j\n"
     ]
    }
   ],
   "source": [
    "with driver.session() as session:\n",
    "    def _q(query) : return session.run(query)\n",
    "    #---------------------------------------\n",
    "\n",
    "    movies = [\n",
    "        {'title':'Neo4j', 'year':'2020'},\n",
    "        {'title':'Matrix4j', 'year':'1234'},\n",
    "        {'title':'Titanic4j', 'year':'2008'},\n",
    "        {'title':'4j4j', 'year':'2023'},\n",
    "        {'title':'Python - attack of the snake', 'year':'2004'}, \n",
    "        {'title':'Mr.Bean4j', 'year':'2006'},\n",
    "    ] \n",
    "\n",
    "    for movie in movies:\n",
    "        result = _q(\"CREATE (m:Movie {title:'%s', year:'%s'}) RETURN m\" % (movie['title'],movie['year']))\n",
    "        for record in result: print(\"Movie created:\", record['m']['title']) \n",
    "\n",
    "    #---------------------------------------\n",
    "driver.close()"
   ]
  },
  {
   "cell_type": "code",
   "execution_count": 73,
   "metadata": {},
   "outputs": [
    {
     "name": "stdout",
     "output_type": "stream",
     "text": [
      "Relation created: Daniel Nepp STARRED_IN Neo4j\n",
      "Relation created: Lukas Hinterleitner STARRED_IN Neo4j\n",
      "Relation created: Daniel Nepp DIRECTED Neo4j\n",
      "Relation created: Lukas Hinterleitner DIRECTED Neo4j\n",
      "Relation created: Daniel Nepp DIRECTED Mr.Bean4j\n",
      "Relation created: Lukas Hinterleitner DIRECTED Titanic4j\n",
      "Relation created: Jammie Tullin STARRED_IN Python - attack of the snake\n",
      "Relation created: Tina Tuna STARRED_IN Python - attack of the snake\n",
      "Relation created: Jammie Tullin STARRED_IN 4j4j\n",
      "Relation created: Tina Tuna STARRED_IN 4j4j\n",
      "Relation created: Marry Murry STARRED_IN Mr.Bean4j\n",
      "Relation created: Julian Jingle STARRED_IN Mr.Bean4j\n",
      "Relation created: Sam Sum STARRED_IN Mr.Bean4j\n",
      "Relation created: Marry Murry STARRED_IN Neo4j\n",
      "Relation created: Julian Jingle STARRED_IN Matrix4j\n",
      "Relation created: Sam Sum STARRED_IN Matrix4j\n",
      "Relation created: Julian Jingle STARRED_IN Titanic4j\n",
      "Relation created: Sam Sum STARRED_IN Titanic4j\n"
     ]
    }
   ],
   "source": [
    "with driver.session() as session:\n",
    "    def _q(query) : return session.run(query)\n",
    "    #---------------------------------------\n",
    "\n",
    "    relations = [\n",
    "        { 'name':'Daniel Nepp', 'type':'STARRED_IN', 'title':'Neo4j' }, \n",
    "        { 'name':'Lukas Hinterleitner', 'type':'STARRED_IN', 'title':'Neo4j' }, \n",
    "        { 'name':'Daniel Nepp', 'type':'DIRECTED', 'title':'Neo4j' }, \n",
    "        { 'name':'Lukas Hinterleitner', 'type':'DIRECTED', 'title':'Neo4j' }, \n",
    "        { 'name':'Daniel Nepp', 'type':'DIRECTED', 'title':'Mr.Bean4j' }, \n",
    "        { 'name':'Lukas Hinterleitner', 'type':'DIRECTED', 'title':'Titanic4j' }, \n",
    "        \n",
    "        { 'name':'Jammie Tullin', 'type':'STARRED_IN', 'title':'Python - attack of the snake' }, \n",
    "        { 'name':'Tina Tuna',  'type':'STARRED_IN', 'title':'Python - attack of the snake' },\n",
    "        { 'name':'Jammie Tullin', 'type':'STARRED_IN', 'title':'4j4j' }, \n",
    "        { 'name':'Tina Tuna',  'type':'STARRED_IN', 'title':'4j4j' },\n",
    "        { 'name':'Marry Murry', 'type':'STARRED_IN', 'title':'Mr.Bean4j' },\n",
    "        { 'name':'Julian Jingle', 'type':'STARRED_IN', 'title':'Mr.Bean4j' },\n",
    "        { 'name':'Sam Sum', 'type':'STARRED_IN', 'title':'Mr.Bean4j' },\n",
    "        \n",
    "        { 'name':'Marry Murry', 'type':'STARRED_IN', 'title':'Neo4j' },\n",
    "         \n",
    "        { 'name':'Julian Jingle', 'type':'STARRED_IN', 'title':'Matrix4j' },\n",
    "        { 'name':'Sam Sum', 'type':'STARRED_IN', 'title':'Matrix4j' },\n",
    "        \n",
    "        { 'name':'Julian Jingle', 'type':'STARRED_IN', 'title':'Titanic4j' },\n",
    "        { 'name':'Sam Sum', 'type':'STARRED_IN', 'title':'Titanic4j' }\n",
    "        \n",
    "        \n",
    "    ] \n",
    "\n",
    "    for relation in relations: \n",
    "        result = _q(\n",
    "            \"\"\"\n",
    "                MATCH (p:Person),(m:Movie)\n",
    "                WHERE p.name = '{0}' AND m.title = '{2}'\n",
    "                CREATE (p)-[r:{1}]->(m)\n",
    "                RETURN p.name, type(r), m.title\n",
    "            \"\"\"\n",
    "            .format( relation['name'], relation['type'], relation['title'] )\n",
    "        )\n",
    "        for record in result: print(\"Relation created:\", record['p.name'], record['type(r)'], record['m.title']) \n",
    "\n",
    "    #---------------------------------------\n",
    "driver.close()"
   ]
  },
  {
   "cell_type": "code",
   "execution_count": 83,
   "metadata": {},
   "outputs": [
    {
     "ename": "CypherSyntaxError",
     "evalue": "{code: Neo.ClientError.Statement.SyntaxError} {message: Unknown operation '!=' (you probably meant to use '<>', which is the operator for inequality testing) (line 4, column 31 (offset: 151))\r\n\"            WHERE coStar.name != p.name\"\r\n                               ^}",
     "output_type": "error",
     "traceback": [
      "\u001b[1;31m---------------------------------------------------------------------------\u001b[0m",
      "\u001b[1;31mCypherSyntaxError\u001b[0m                         Traceback (most recent call last)",
      "\u001b[1;32m<ipython-input-83-4e7f0cffea65>\u001b[0m in \u001b[0;36m<module>\u001b[1;34m\u001b[0m\n\u001b[0;32m      3\u001b[0m     \u001b[1;31m#---------------------------------------\u001b[0m\u001b[1;33m\u001b[0m\u001b[1;33m\u001b[0m\u001b[1;33m\u001b[0m\u001b[0m\n\u001b[0;32m      4\u001b[0m \u001b[1;33m\u001b[0m\u001b[0m\n\u001b[1;32m----> 5\u001b[1;33m     result = _q(\n\u001b[0m\u001b[0;32m      6\u001b[0m         \"\"\"\n\u001b[0;32m      7\u001b[0m             \u001b[0mMATCH\u001b[0m\u001b[1;33m\u001b[0m\u001b[1;33m\u001b[0m\u001b[0m\n",
      "\u001b[1;32m<ipython-input-83-4e7f0cffea65>\u001b[0m in \u001b[0;36m_q\u001b[1;34m(query)\u001b[0m\n\u001b[0;32m      1\u001b[0m \u001b[1;32mwith\u001b[0m \u001b[0mdriver\u001b[0m\u001b[1;33m.\u001b[0m\u001b[0msession\u001b[0m\u001b[1;33m(\u001b[0m\u001b[1;33m)\u001b[0m \u001b[1;32mas\u001b[0m \u001b[0msession\u001b[0m\u001b[1;33m:\u001b[0m\u001b[1;33m\u001b[0m\u001b[1;33m\u001b[0m\u001b[0m\n\u001b[1;32m----> 2\u001b[1;33m     \u001b[1;32mdef\u001b[0m \u001b[0m_q\u001b[0m\u001b[1;33m(\u001b[0m\u001b[0mquery\u001b[0m\u001b[1;33m)\u001b[0m \u001b[1;33m:\u001b[0m \u001b[1;32mreturn\u001b[0m \u001b[0msession\u001b[0m\u001b[1;33m.\u001b[0m\u001b[0mrun\u001b[0m\u001b[1;33m(\u001b[0m\u001b[0mquery\u001b[0m\u001b[1;33m)\u001b[0m\u001b[1;33m\u001b[0m\u001b[1;33m\u001b[0m\u001b[0m\n\u001b[0m\u001b[0;32m      3\u001b[0m     \u001b[1;31m#---------------------------------------\u001b[0m\u001b[1;33m\u001b[0m\u001b[1;33m\u001b[0m\u001b[1;33m\u001b[0m\u001b[0m\n\u001b[0;32m      4\u001b[0m \u001b[1;33m\u001b[0m\u001b[0m\n\u001b[0;32m      5\u001b[0m     result = _q(\n",
      "\u001b[1;32m~\\Anaconda3\\envs\\neo4j\\lib\\site-packages\\neo4j\\work\\simple.py\u001b[0m in \u001b[0;36mrun\u001b[1;34m(self, query, parameters, **kwparameters)\u001b[0m\n\u001b[0;32m    215\u001b[0m \u001b[1;33m\u001b[0m\u001b[0m\n\u001b[0;32m    216\u001b[0m         \u001b[0mself\u001b[0m\u001b[1;33m.\u001b[0m\u001b[0m_autoResult\u001b[0m \u001b[1;33m=\u001b[0m \u001b[0mResult\u001b[0m\u001b[1;33m(\u001b[0m\u001b[0mcx\u001b[0m\u001b[1;33m,\u001b[0m \u001b[0mhydrant\u001b[0m\u001b[1;33m,\u001b[0m \u001b[0mself\u001b[0m\u001b[1;33m.\u001b[0m\u001b[0m_config\u001b[0m\u001b[1;33m.\u001b[0m\u001b[0mfetch_size\u001b[0m\u001b[1;33m,\u001b[0m \u001b[0mself\u001b[0m\u001b[1;33m.\u001b[0m\u001b[0m_result_closed\u001b[0m\u001b[1;33m)\u001b[0m\u001b[1;33m\u001b[0m\u001b[1;33m\u001b[0m\u001b[0m\n\u001b[1;32m--> 217\u001b[1;33m         \u001b[0mself\u001b[0m\u001b[1;33m.\u001b[0m\u001b[0m_autoResult\u001b[0m\u001b[1;33m.\u001b[0m\u001b[0m_run\u001b[0m\u001b[1;33m(\u001b[0m\u001b[0mquery\u001b[0m\u001b[1;33m,\u001b[0m \u001b[0mparameters\u001b[0m\u001b[1;33m,\u001b[0m \u001b[0mself\u001b[0m\u001b[1;33m.\u001b[0m\u001b[0m_config\u001b[0m\u001b[1;33m.\u001b[0m\u001b[0mdatabase\u001b[0m\u001b[1;33m,\u001b[0m \u001b[0mself\u001b[0m\u001b[1;33m.\u001b[0m\u001b[0m_config\u001b[0m\u001b[1;33m.\u001b[0m\u001b[0mdefault_access_mode\u001b[0m\u001b[1;33m,\u001b[0m \u001b[0mself\u001b[0m\u001b[1;33m.\u001b[0m\u001b[0m_bookmarks\u001b[0m\u001b[1;33m,\u001b[0m \u001b[1;33m**\u001b[0m\u001b[0mkwparameters\u001b[0m\u001b[1;33m)\u001b[0m\u001b[1;33m\u001b[0m\u001b[1;33m\u001b[0m\u001b[0m\n\u001b[0m\u001b[0;32m    218\u001b[0m \u001b[1;33m\u001b[0m\u001b[0m\n\u001b[0;32m    219\u001b[0m         \u001b[1;32mreturn\u001b[0m \u001b[0mself\u001b[0m\u001b[1;33m.\u001b[0m\u001b[0m_autoResult\u001b[0m\u001b[1;33m\u001b[0m\u001b[1;33m\u001b[0m\u001b[0m\n",
      "\u001b[1;32m~\\Anaconda3\\envs\\neo4j\\lib\\site-packages\\neo4j\\work\\result.py\u001b[0m in \u001b[0;36m_run\u001b[1;34m(self, query, parameters, db, access_mode, bookmarks, **kwparameters)\u001b[0m\n\u001b[0;32m     99\u001b[0m         \u001b[0mself\u001b[0m\u001b[1;33m.\u001b[0m\u001b[0m_pull\u001b[0m\u001b[1;33m(\u001b[0m\u001b[1;33m)\u001b[0m\u001b[1;33m\u001b[0m\u001b[1;33m\u001b[0m\u001b[0m\n\u001b[0;32m    100\u001b[0m         \u001b[0mself\u001b[0m\u001b[1;33m.\u001b[0m\u001b[0m_connection\u001b[0m\u001b[1;33m.\u001b[0m\u001b[0msend_all\u001b[0m\u001b[1;33m(\u001b[0m\u001b[1;33m)\u001b[0m\u001b[1;33m\u001b[0m\u001b[1;33m\u001b[0m\u001b[0m\n\u001b[1;32m--> 101\u001b[1;33m         \u001b[0mself\u001b[0m\u001b[1;33m.\u001b[0m\u001b[0m_attach\u001b[0m\u001b[1;33m(\u001b[0m\u001b[1;33m)\u001b[0m\u001b[1;33m\u001b[0m\u001b[1;33m\u001b[0m\u001b[0m\n\u001b[0m\u001b[0;32m    102\u001b[0m \u001b[1;33m\u001b[0m\u001b[0m\n\u001b[0;32m    103\u001b[0m     \u001b[1;32mdef\u001b[0m \u001b[0m_pull\u001b[0m\u001b[1;33m(\u001b[0m\u001b[0mself\u001b[0m\u001b[1;33m)\u001b[0m\u001b[1;33m:\u001b[0m\u001b[1;33m\u001b[0m\u001b[1;33m\u001b[0m\u001b[0m\n",
      "\u001b[1;32m~\\Anaconda3\\envs\\neo4j\\lib\\site-packages\\neo4j\\work\\result.py\u001b[0m in \u001b[0;36m_attach\u001b[1;34m(self)\u001b[0m\n\u001b[0;32m    200\u001b[0m         \u001b[1;32mif\u001b[0m \u001b[0mself\u001b[0m\u001b[1;33m.\u001b[0m\u001b[0m_closed\u001b[0m \u001b[1;32mis\u001b[0m \u001b[1;32mFalse\u001b[0m\u001b[1;33m:\u001b[0m\u001b[1;33m\u001b[0m\u001b[1;33m\u001b[0m\u001b[0m\n\u001b[0;32m    201\u001b[0m             \u001b[1;32mwhile\u001b[0m \u001b[0mself\u001b[0m\u001b[1;33m.\u001b[0m\u001b[0m_attached\u001b[0m \u001b[1;32mis\u001b[0m \u001b[1;32mFalse\u001b[0m\u001b[1;33m:\u001b[0m\u001b[1;33m\u001b[0m\u001b[1;33m\u001b[0m\u001b[0m\n\u001b[1;32m--> 202\u001b[1;33m                 \u001b[0mself\u001b[0m\u001b[1;33m.\u001b[0m\u001b[0m_connection\u001b[0m\u001b[1;33m.\u001b[0m\u001b[0mfetch_message\u001b[0m\u001b[1;33m(\u001b[0m\u001b[1;33m)\u001b[0m\u001b[1;33m\u001b[0m\u001b[1;33m\u001b[0m\u001b[0m\n\u001b[0m\u001b[0;32m    203\u001b[0m \u001b[1;33m\u001b[0m\u001b[0m\n\u001b[0;32m    204\u001b[0m     \u001b[1;32mdef\u001b[0m \u001b[0m_buffer_all\u001b[0m\u001b[1;33m(\u001b[0m\u001b[0mself\u001b[0m\u001b[1;33m)\u001b[0m\u001b[1;33m:\u001b[0m\u001b[1;33m\u001b[0m\u001b[1;33m\u001b[0m\u001b[0m\n",
      "\u001b[1;32m~\\Anaconda3\\envs\\neo4j\\lib\\site-packages\\neo4j\\io\\_bolt4x1.py\u001b[0m in \u001b[0;36mfetch_message\u001b[1;34m(self)\u001b[0m\n\u001b[0;32m    351\u001b[0m             \u001b[0mlog\u001b[0m\u001b[1;33m.\u001b[0m\u001b[0mdebug\u001b[0m\u001b[1;33m(\u001b[0m\u001b[1;34m\"[#%04X]  S: FAILURE %r\"\u001b[0m\u001b[1;33m,\u001b[0m \u001b[0mself\u001b[0m\u001b[1;33m.\u001b[0m\u001b[0mlocal_port\u001b[0m\u001b[1;33m,\u001b[0m \u001b[0msummary_metadata\u001b[0m\u001b[1;33m)\u001b[0m\u001b[1;33m\u001b[0m\u001b[1;33m\u001b[0m\u001b[0m\n\u001b[0;32m    352\u001b[0m             \u001b[1;32mtry\u001b[0m\u001b[1;33m:\u001b[0m\u001b[1;33m\u001b[0m\u001b[1;33m\u001b[0m\u001b[0m\n\u001b[1;32m--> 353\u001b[1;33m                 \u001b[0mresponse\u001b[0m\u001b[1;33m.\u001b[0m\u001b[0mon_failure\u001b[0m\u001b[1;33m(\u001b[0m\u001b[0msummary_metadata\u001b[0m \u001b[1;32mor\u001b[0m \u001b[1;33m{\u001b[0m\u001b[1;33m}\u001b[0m\u001b[1;33m)\u001b[0m\u001b[1;33m\u001b[0m\u001b[1;33m\u001b[0m\u001b[0m\n\u001b[0m\u001b[0;32m    354\u001b[0m             \u001b[1;32mexcept\u001b[0m \u001b[1;33m(\u001b[0m\u001b[0mServiceUnavailable\u001b[0m\u001b[1;33m,\u001b[0m \u001b[0mDatabaseUnavailable\u001b[0m\u001b[1;33m)\u001b[0m\u001b[1;33m:\u001b[0m\u001b[1;33m\u001b[0m\u001b[1;33m\u001b[0m\u001b[0m\n\u001b[0;32m    355\u001b[0m                 \u001b[1;32mif\u001b[0m \u001b[0mself\u001b[0m\u001b[1;33m.\u001b[0m\u001b[0mpool\u001b[0m\u001b[1;33m:\u001b[0m\u001b[1;33m\u001b[0m\u001b[1;33m\u001b[0m\u001b[0m\n",
      "\u001b[1;32m~\\Anaconda3\\envs\\neo4j\\lib\\site-packages\\neo4j\\io\\_bolt4x1.py\u001b[0m in \u001b[0;36mon_failure\u001b[1;34m(self, metadata)\u001b[0m\n\u001b[0;32m    550\u001b[0m         \u001b[1;32mif\u001b[0m \u001b[0mcallable\u001b[0m\u001b[1;33m(\u001b[0m\u001b[0mhandler\u001b[0m\u001b[1;33m)\u001b[0m\u001b[1;33m:\u001b[0m\u001b[1;33m\u001b[0m\u001b[1;33m\u001b[0m\u001b[0m\n\u001b[0;32m    551\u001b[0m             \u001b[0mhandler\u001b[0m\u001b[1;33m(\u001b[0m\u001b[1;33m)\u001b[0m\u001b[1;33m\u001b[0m\u001b[1;33m\u001b[0m\u001b[0m\n\u001b[1;32m--> 552\u001b[1;33m         \u001b[1;32mraise\u001b[0m \u001b[0mNeo4jError\u001b[0m\u001b[1;33m.\u001b[0m\u001b[0mhydrate\u001b[0m\u001b[1;33m(\u001b[0m\u001b[1;33m**\u001b[0m\u001b[0mmetadata\u001b[0m\u001b[1;33m)\u001b[0m\u001b[1;33m\u001b[0m\u001b[1;33m\u001b[0m\u001b[0m\n\u001b[0m\u001b[0;32m    553\u001b[0m \u001b[1;33m\u001b[0m\u001b[0m\n\u001b[0;32m    554\u001b[0m     \u001b[1;32mdef\u001b[0m \u001b[0mon_ignored\u001b[0m\u001b[1;33m(\u001b[0m\u001b[0mself\u001b[0m\u001b[1;33m,\u001b[0m \u001b[0mmetadata\u001b[0m\u001b[1;33m=\u001b[0m\u001b[1;32mNone\u001b[0m\u001b[1;33m)\u001b[0m\u001b[1;33m:\u001b[0m\u001b[1;33m\u001b[0m\u001b[1;33m\u001b[0m\u001b[0m\n",
      "\u001b[1;31mCypherSyntaxError\u001b[0m: {code: Neo.ClientError.Statement.SyntaxError} {message: Unknown operation '!=' (you probably meant to use '<>', which is the operator for inequality testing) (line 4, column 31 (offset: 151))\r\n\"            WHERE coStar.name != p.name\"\r\n                               ^}"
     ]
    }
   ],
   "source": [
    "with driver.session() as session:\n",
    "    def _q(query) : return session.run(query)\n",
    "    #---------------------------------------\n",
    " \n",
    "    result = _q(\n",
    "        \"\"\"\n",
    "            MATCH \n",
    "                (p:Person {name:\"Daniel Nepp\"} ) - [:STARRED_IN] -> (m) <- [:STARRED_IN] - (coStar) \n",
    "            WHERE coStar.name <> p.name\n",
    "            RETURN DISTINCT coStar.name\n",
    "        \"\"\"\n",
    "    )\n",
    "    for record in result: print(\"Daniel's co-star found:\", record['coStar.name'] ) \n",
    "\n",
    "    #---------------------------------------\n",
    "driver.close()"
   ]
  },
  {
   "cell_type": "code",
   "execution_count": null,
   "metadata": {},
   "outputs": [],
   "source": []
  }
 ],
 "metadata": {
  "kernelspec": {
   "display_name": "Python 3",
   "language": "python",
   "name": "python3"
  },
  "language_info": {
   "codemirror_mode": {
    "name": "ipython",
    "version": 3
   },
   "file_extension": ".py",
   "mimetype": "text/x-python",
   "name": "python",
   "nbconvert_exporter": "python",
   "pygments_lexer": "ipython3",
   "version": "3.8.5"
  }
 },
 "nbformat": 4,
 "nbformat_minor": 1
}
