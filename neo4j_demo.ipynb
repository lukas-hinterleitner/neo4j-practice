{
 "cells": [
  {
   "cell_type": "markdown",
   "metadata": {},
   "source": [
    "# Neo4J - with Python #\n",
    "##### Lukas Hinterleitner, Daniel Nepp #####\n",
    "For a complete documentation visit: https://neo4j.com/developer/python/\n",
    "\n",
    "---\n",
    "\n",
    "## Installation ##\n",
    "### 1. Download and install Neo4j Desktop: ###\n",
    "https://neo4j.com/download/\n",
    "\n",
    "Before you can download the installation file you have to provide your data.\n",
    "If you don't want give your data away, you can type in random stuff :)\n",
    "\n",
    "An activation key gets displayed while downloading (shown in the picture below).\n",
    "Keep it, you will need it later during the installation.\n",
    "<br><br>\n",
    "\n",
    "![Neo4J Activation Key](screenshots/key.png)\n",
    "<br><br>\n",
    "\n",
    "After the installation finished you should see the home screen which is displayed in the image below.\n",
    "We will get back to it later when we create our first Neo4J graph database.\n",
    "\n",
    "![Home screen Neo4J Desktop](screenshots/home_screen.png)\n",
    "<br><br>\n",
    "\n",
    "### 2. Create a Conda-Environment : ###\n",
    "\n",
    "`$ conda create --name neo4j python=3.8.2`\n",
    "\n",
    "\n",
    "### 3. Activate Conda-Environment : ###\n",
    "\n",
    "`$ conda activate neo4j`\n",
    "\n",
    "\n",
    "### 4. Install the Neo4j driver : ###\n",
    "https://anaconda.org/conda-forge/neo4j-python-driver\n",
    "\n",
    "`$ conda install -c conda-forge neo4j-python-driver`\n",
    "\n",
    "### 5. Install jupyter notebook : ###\n",
    "\n",
    "`$ conda install -c anaconda jupyter`\n",
    "\n",
    "or install jupyter lab\n",
    "\n",
    "`$ conda install -c conda-forge jupyterlab`\n",
    "\n",
    "or install jupyter in pycharm...\n",
    "\n",
    "\n",
    "## Creating Neo4J Database : ##\n",
    "\n",
    "When creating a Neo4j database you can choose between creating a new local one or connect to a remote DBMS.\n",
    "In our tutorial we will create a local one.\n",
    "\n",
    "![create_local_database](screenshots/create_local_database.png)\n",
    "<br><br>\n",
    "\n",
    "### Select Version : ###\n",
    "\n",
    "The Neo4j version can be selected before creating a local database.\n",
    "The DBMS name and the password will be set at this stage of the installation. \n",
    "\n",
    "![create_database](screenshots/create_database.png)\n",
    "<br><br>\n",
    "\n",
    "### Database View : ###\n",
    "\n",
    "The picture below shows the view after the installation process finished.\n",
    "To open the settings click on the three dots and after that on \"manage\" in the upper left corner of the database.\n",
    "By clicking on the start button the Neo4j console will open.\n",
    "\n",
    "![database_after_installation](screenshots/database_after_installation.png)\n",
    "<br><br>\n",
    "\n",
    "### Database Settings : ###\n",
    "\n",
    "Additional information about the database are listed in the details sections of the settings. In the other sections are more information and further configurations. \n",
    "\n",
    "![database_settingsJ Desktop](screenshots/database_settings.png)\n",
    "<br><br>\n",
    "\n",
    "## Neo4j Console : ##\n",
    "\n",
    "The Neo4j console offer some pretty nice stuff. It has a built-in visualization of the console output and much more.\n",
    "\n",
    "### Neo4j Console Home Screen : ###\n",
    "\n",
    "The home screen is shown in the picture below.<br>\n",
    "To get started with the user interface click on \"Get started\".<br>\n",
    "To try Neo4j with live data click on \"Play guide\". <br>\n",
    "When clicking on \"Start querying\" you will learn the basics about the Cypher.<br>\n",
    "\n",
    "![neo4j_browser_home_screen](screenshots/neo4j_browser_home_screen.png)\n",
    "<br><br>\n",
    "\n",
    "### Neo4j Guide - View Data : ###\n",
    "\n",
    "During the guide the browser is always able to display the data. To do this, run the associated command in the input field on the top or just click on the little play buttons listed before each one. \n",
    "\n",
    "![guide_after_creation_tables](screenshots/guide_after_creation_tables.png)\n",
    "<br><br>\n",
    "\n",
    "### Neo4j Guide - View Data visually as Graphs and Nodes : ###\n",
    "\n",
    "By far the coolest feature is the visualization of nodes and their corresponding relationships. They can be shown/hided by simple mouse clicks, just play around a little bit. \n",
    "\n",
    "![guide_tables_graph](screenshots/guide_tables_graph.png)\n",
    "<br><br>\n",
    "\n",
    "---\n",
    "\n",
    "## Using Neo4j : ##\n",
    "\n",
    "The code below is a Neo4J Python hello world example! :)\n",
    "\n",
    "Neo4j uses a NoSQL type query language, therefore the following statements dispatched to the database will look unfamiliar at first. This language is called \"CQL\" which stand for Cypher-Query-Language, or short : Cypher.\n",
    "However let's try a \"hello neo4j\" code snippet first : <br>"
   ]
  },
  {
   "cell_type": "code",
   "execution_count": 1,
   "metadata": {
    "pycharm": {
     "name": "#%% code\n"
    }
   },
   "outputs": [
    {
     "name": "stdout",
     "output_type": "stream",
     "text": [
      "Hello World!, from node 1\n"
     ]
    }
   ],
   "source": [
    "from neo4j import GraphDatabase\n",
    "\n",
    "uri, user, password = 'bolt://localhost:7687', 'neo4j', 'neo4j_'\n",
    "\n",
    "def _create_and_return_greeting(tx, message):\n",
    "    result = tx.run(\"CREATE (a:Greeting) \"\n",
    "                    \"SET a.message = $message \"\n",
    "                    \"RETURN a.message + ', from node ' + id(a)\", message=message)\n",
    "    return result.single()[0]\n",
    "\n",
    "driver = GraphDatabase.driver(uri, auth=(user, password))\n",
    "\n",
    "with driver.session() as session:\n",
    "    greeting = session.write_transaction(_create_and_return_greeting, \"Hello World!\")\n",
    "    print(greeting)\n",
    "\n",
    "driver.close()"
   ]
  },
  {
   "cell_type": "markdown",
   "metadata": {},
   "source": [
    "---\n",
    "### 1. Create Neo4J Entities : ###\n",
    "\n",
    "```sql\n",
    "CREATE (\n",
    "        TheMatrix:Movie\n",
    "        {title:'The Matrix', released:1999, tagline:'Welcome to the Real World'}\n",
    "        )\n",
    "```\n",
    "\n",
    "```sql\n",
    "CREATE (\n",
    "        Keanu:Person\n",
    "        {name:'Keanu Reeves', born:1964}\n",
    "        )\n",
    "```\n",
    "\n",
    "---\n",
    "\n",
    "### 2. Create Neo4J Relations : ###\n",
    "\n",
    "```sql\n",
    "(Keanu) - [:ACTED_IN { roles : [ 'Neo' ]}] -> (TheMatrix)\n",
    "```\n",
    "\n",
    "```sql\n",
    "(LillyW) - [:DIRECTED] -> (TheMatrix)\n",
    "```\n",
    "\n",
    "---\n",
    "\n",
    "### 3. Find Neo4J Entities : ###\n",
    "\n",
    "Find Keanu Reeves - returns single entity:\n",
    "```sql\n",
    "MATCH (keanu {name: \"Keanu Reeves\"}) RETURN keanu\n",
    "```\n",
    "\n",
    "Find The Matrix - returns single entity:\n",
    "```sql\n",
    "MATCH (theMatrix {title: \"The Matrix\"}) RETURN theMatrix\n",
    "```\n",
    "\n",
    "Find ten people - returns ten entities:\n",
    "```sql\n",
    "MATCH (people:Person) RETURN people.name LIMIT 10\n",
    "```\n",
    "\n",
    "Find movies produced in the 90's - returns all movies between 1990 and 2000:\n",
    "```sql\n",
    "MATCH (nineties:Movie) WHERE nineties.released >= 1990 AND nineties.released < 2000 RETURN nineties.title\n",
    "```\n",
    "\n",
    "List all Keanu Reeves movies - returns all movies where Keanu Reeves acted in:\n",
    "```sql\n",
    "MATCH (keanu:Person {name: \"Keanu Reeves\"}) - [:ACTED_IN] -> (keanuMovies) RETURN keanu,keanuMovies\n",
    "```\n",
    "\n",
    "Who directed \"The Matrix\"? - returns all directors of The Matrix:\n",
    "```sql\n",
    "MATCH (theMatrix {title: \"The Matrix\"}) <- [:DIRECTED] - (directors) RETURN directors.name\n",
    "```\n",
    "\n",
    "Keanu Reeves' co-actors -- returns all actors who acted in any movie aside Keanu Reeves:\n",
    "```sql\n",
    "MATCH (keanu:Person {name:\"Keanu Reeves\"}) - [:ACTED_IN] -> (m) <- [:ACTED_IN] - (coActors) RETURN coActors.name\n",
    "```\n",
    "\n",
    "How people are related to \"The Matrix\" - returns all people inclusive their relations to the movie The Matrix:\n",
    "```sql\n",
    "MATCH (people:Person) - [relatedTo] - (:Movie {title: \"The Matrix\"}) RETURN people.name, Type(relatedTo), relatedTo\n",
    "```\n",
    "\n",
    "Movies and actors up to 4 \"hops\" away from Kevin Bacon:\n",
    "```sql\n",
    "MATCH (bacon:Person {name:\"Kevin Bacon\"}) - [*1..4] - (hollywood)\n",
    "RETURN DISTINCT hollywood\n",
    "```\n",
    "Note: hollywood here is just a placeholder for any entity\n",
    "\n",
    "Bacon path, the shortest path of any relationships to Meg Ryan:\n",
    "```sql\n",
    "MATCH p=shortestPath(\n",
    "(bacon:Person {name:\"Kevin Bacon\"}) - [*] - (meg:Person {name:\"Meg Ryan\"})\n",
    ")\n",
    "RETURN p\n",
    "```\n",
    "\n",
    "Extend Tom Hanks co-actors, to find co-co-actors who haven't worked with Tom Hanks:\n",
    "```sql\n",
    "MATCH (tom:Person {name:\"Tom Hanks\"})-[:ACTED_IN]->(m)<-[:ACTED_IN]-(coActors),\n",
    "    (coActors)-[:ACTED_IN]->(m2)<-[:ACTED_IN]-(cocoActors)\n",
    "WHERE NOT (tom)-[:ACTED_IN]->()<-[:ACTED_IN]-(cocoActors) AND tom <> cocoActors\n",
    "RETURN cocoActors.name AS Recommended, count(*) AS Strength ORDER BY Strength DESC\n",
    "```\n",
    "\n",
    "Find someone to introduce Tom Hanks to Tom Cruise:\n",
    "```sql\n",
    "MATCH (tom:Person {name:\"Tom Hanks\"})-[:ACTED_IN]->(m)<-[:ACTED_IN]-(coActors),\n",
    "  (coActors)-[:ACTED_IN]->(m2)<-[:ACTED_IN]-(cruise:Person {name:\"Tom Cruise\"})\n",
    "RETURN tom, m, coActors, m2, cruise\n",
    "```\n",
    "\n",
    "---\n",
    "\n",
    "### 4. Delete Neo4J Graph : ###\n",
    "Delete all Movie and Person nodes, and their relationships:\n",
    "```sql\n",
    "MATCH (n) DETACH DELETE n\n",
    "```\n",
    "\n",
    "Note you only need to compare property values like this when first creating relationships\n",
    "Prove that the Movie Graph is gone\n",
    "```sql\n",
    "MATCH (n) RETURN n\n",
    "```\n"
   ]
  },
  {
   "cell_type": "markdown",
   "metadata": {},
   "source": [
    "---\n",
    "## Let's have some fun : ##"
   ]
  },
  {
   "cell_type": "code",
   "execution_count": 2,
   "metadata": {
    "pycharm": {
     "name": "#%% code\n"
    }
   },
   "outputs": [],
   "source": [
    "# importing GraphDatabase\n",
    "from neo4j import GraphDatabase\n",
    "\n",
    "# Connection data :\n",
    "uri, user, password = 'bolt://localhost:7687', 'neo4j', 'neo4j_'\n",
    "\n",
    "# Connecting...\n",
    "driver = GraphDatabase.driver(uri, auth=(user, password))\n"
   ]
  },
  {
   "cell_type": "markdown",
   "metadata": {},
   "source": [
    "---\n",
    "### Delete complete graph at the beginning of the example: ###\n",
    "\n",
    "Before paying around with some custom queries containing custom data let's first\n",
    "clear the database fully.<br>\n",
    "After the following query the database is completely empty."
   ]
  },
  {
   "cell_type": "code",
   "execution_count": 3,
   "metadata": {
    "pycharm": {
     "name": "#%% code\n"
    }
   },
   "outputs": [],
   "source": [
    "# resetting database\n",
    "\n",
    "with driver.session() as session:\n",
    "    def _q(query) : return session.run(query)\n",
    "    #---------------------------------------\n",
    "\n",
    "    _q(\"MATCH (n) DETACH DELETE n\") # remove all graphs and nodes! BE CAREFUL!\n",
    "\n",
    "    #---------------------------------------\n",
    "driver.close()"
   ]
  },
  {
   "cell_type": "markdown",
   "metadata": {},
   "source": [
    "---\n",
    "### Inserting people: ###\n",
    "\n",
    "Let's say we want to store people inside our database. <br>\n",
    "This requirement can be fulfilled with the following code. <br>\n",
    "We do not have to define a \"table\" before adding entries. All we have to do is provide a \"type label\", which in this case is the \"Person\" defined below... <br>\n",
    "Neo4j will automatically store \"Person\" as a new \"class/label/table\" or simply an \"entity\".\n",
    "In fact this is what nodes in a graph database are called : Entites!\n",
    "\n",
    "Lust like tables, entities in a graph database can also have properties / attributes. <br>\n",
    "In this case our \"Person\" entity class will have the peoperty \"name\" and \"born\".<br>\n",
    "Unlike conventional relational databases Neo4j does not enforce what properties different entites have, even if they have the same type label! <br>\n",
    "If a property exists within a given entity, then it exists, if not, then not.<br>\n",
    "Yes, it's that simple."
   ]
  },
  {
   "cell_type": "code",
   "execution_count": 4,
   "metadata": {
    "pycharm": {
     "name": "#%% code\n"
    }
   },
   "outputs": [
    {
     "name": "stdout",
     "output_type": "stream",
     "text": [
      "Person created: Jammie Tullin\n",
      "Person created: Tina Tuna\n",
      "Person created: Marry Murry\n",
      "Person created: Julian Jingle\n",
      "Person created: Sam Sum\n",
      "Person created: Lukas Hinterleitner\n",
      "Person created: Daniel Nepp\n"
     ]
    }
   ],
   "source": [
    "with driver.session() as session:\n",
    "    def _q(query) : return session.run(query)\n",
    "    #---------------------------------------\n",
    "\n",
    "    persons = [\n",
    "        {'name':'Jammie Tullin', 'born':'1999'},\n",
    "        {'name':'Tina Tuna', 'born':'1995'},\n",
    "        {'name':'Marry Murry', 'born':'1992'},\n",
    "        {'name':'Julian Jingle', 'born':'1965'},\n",
    "        {'name':'Sam Sum', 'born':'1987'},\n",
    "        {'name':'Lukas Hinterleitner', 'born':'1998'},\n",
    "        {'name':'Daniel Nepp', 'born':'1997'}\n",
    "    ]\n",
    "\n",
    "    for person in persons: # Creating entities : (:= nodes in the graph)\n",
    "        result = _q(\"CREATE (p:Person {name:'%s', born:'%s'}) RETURN p\" % (person['name'],person['born']))\n",
    "        for record in result: print(\"Person created:\", record['p']['name'])\n",
    " \n",
    "    #---------------------------------------\n",
    "driver.close()"
   ]
  },
  {
   "cell_type": "markdown",
   "metadata": {
    "pycharm": {
     "name": "#%% md\n"
    }
   },
   "source": [
    "---\n",
    "### Insert some movies: ###\n",
    "\n",
    "Now let's do the same for another type of entity, namely : \"Movie\"! <br>\n",
    "Later on we are going to create relations between people and movies that describe\n",
    "the involvement of people in various movies... <br>\n",
    "The queries below are not too different from the previous ones."
   ]
  },
  {
   "cell_type": "code",
   "execution_count": 5,
   "metadata": {
    "pycharm": {
     "name": "#%% code\n"
    }
   },
   "outputs": [
    {
     "name": "stdout",
     "output_type": "stream",
     "text": [
      "Movie created: Neo4j\n",
      "Movie created: Matrix4j\n",
      "Movie created: Titanic4j\n",
      "Movie created: 4j4j\n",
      "Movie created: Python - attack of the snake\n",
      "Movie created: Mr.Bean4j\n"
     ]
    }
   ],
   "source": [
    "with driver.session() as session:\n",
    "    def _q(query) : return session.run(query)\n",
    "    #---------------------------------------\n",
    "\n",
    "    movies = [\n",
    "        {'title':'Neo4j', 'year':'2020'},\n",
    "        {'title':'Matrix4j', 'year':'1234'},\n",
    "        {'title':'Titanic4j', 'year':'2008'},\n",
    "        {'title':'4j4j', 'year':'2023'},\n",
    "        {'title':'Python - attack of the snake', 'year':'2004'},\n",
    "        {'title':'Mr.Bean4j', 'year':'2006'},\n",
    "    ]\n",
    "\n",
    "    for movie in movies:\n",
    "        result = _q(\"CREATE (m:Movie {title:'%s', year:'%s'}) RETURN m\" % (movie['title'],movie['year']))\n",
    "        for record in result: print(\"Movie created:\", record['m']['title'])\n",
    "\n",
    "    #---------------------------------------\n",
    "driver.close()"
   ]
  },
  {
   "cell_type": "markdown",
   "metadata": {
    "pycharm": {
     "name": "#%% md\n"
    }
   },
   "source": [
    "---\n",
    "### Insert relations between people and movies: ###\n",
    "\n",
    "Relations are very similar to entities.\n",
    "They have attributes attached to them, as well as a \"class\" / \"label\" to which they belong. <br>\n",
    "(Like \"Person\" or \"Movie\" as in our previous queries...)<br>\n",
    "\n",
    "The big difference is that they connect two entities with oneanother. <br>\n",
    "Additionally this connection is also directed, meaning that there is a \"parent\" and a \"child\" entity.\n",
    "This has the great benefit that the relation can say something different for each of the two nodes.\n",
    "A phantastic example of this would be the following : <br>\n",
    "\n",
    "- `\"John\" -> \"child of\" -> \"Marry\"`\n",
    "\n",
    "If relations had no direction than the above would not be possible, or let's say nonsensical. <br>\n",
    "For the entities we created so far, namely those of type : \"Person\" & \"Movie\", we'll simple create the relationship \"STARRED_IN\"! Meaning that a \"Person\" entity will have the relationship \"STARRED_IN\" directed to an entity labeld \"Movie\". <br>\n",
    "\n",
    "Take a look :\n"
   ]
  },
  {
   "cell_type": "code",
   "execution_count": 6,
   "metadata": {
    "pycharm": {
     "name": "#%% code\n"
    }
   },
   "outputs": [
    {
     "name": "stdout",
     "output_type": "stream",
     "text": [
      "Relation created: Lukas Hinterleitner STARRED_IN as programmer Neo4j\n",
      "Relation created: Lukas Hinterleitner DIRECTED as producer Neo4j\n",
      "Relation created: Lukas Hinterleitner DIRECTED as producer Titanic4j\n",
      "Relation created: Daniel Nepp STARRED_IN as programmer Neo4j\n",
      "Relation created: Daniel Nepp DIRECTED as producer Neo4j\n",
      "Relation created: Daniel Nepp DIRECTED as producer Mr.Bean4j\n",
      "Relation created: Jammie Tullin STARRED_IN as normal actor Python - attack of the snake\n",
      "Relation created: Tina Tuna STARRED_IN as normal actor Python - attack of the snake\n",
      "Relation created: Jammie Tullin STARRED_IN as normal actor 4j4j\n",
      "Relation created: Tina Tuna STARRED_IN as normal actor 4j4j\n",
      "Relation created: Marry Murry STARRED_IN as normal actor Mr.Bean4j\n",
      "Relation created: Julian Jingle STARRED_IN as normal actor Mr.Bean4j\n",
      "Relation created: Sam Sum STARRED_IN as normal actor Mr.Bean4j\n",
      "Relation created: Marry Murry STARRED_IN as normal actor Neo4j\n",
      "Relation created: Julian Jingle STARRED_IN as normal actor Matrix4j\n",
      "Relation created: Sam Sum STARRED_IN as normal actor Matrix4j\n",
      "Relation created: Julian Jingle STARRED_IN as normal actor Titanic4j\n",
      "Relation created: Sam Sum STARRED_IN as normal actor Titanic4j\n"
     ]
    }
   ],
   "source": [
    "with driver.session() as session:\n",
    "    def _q(query) : return session.run(query)\n",
    "    #---------------------------------------\n",
    "\n",
    "    relations = [\n",
    "        { 'name':'Lukas Hinterleitner', 'type':'STARRED_IN', 'role':'programmer', 'title':'Neo4j' },\n",
    "        { 'name':'Lukas Hinterleitner', 'type':'DIRECTED', 'role':'producer', 'title':'Neo4j' },\n",
    "        { 'name':'Lukas Hinterleitner', 'type':'DIRECTED', 'role':'producer', 'title':'Titanic4j' },\n",
    "\n",
    "        { 'name':'Daniel Nepp', 'type':'STARRED_IN', 'role':'programmer', 'title':'Neo4j' },\n",
    "        { 'name':'Daniel Nepp', 'type':'DIRECTED', 'role':'producer', 'title':'Neo4j' },\n",
    "        { 'name':'Daniel Nepp', 'type':'DIRECTED', 'role':'producer', 'title':'Mr.Bean4j' },\n",
    "\n",
    "\n",
    "        { 'name':'Jammie Tullin', 'type':'STARRED_IN', 'role':'normal actor', 'title':'Python - attack of the snake' },\n",
    "        { 'name':'Tina Tuna',  'type':'STARRED_IN', 'role':'normal actor', 'title':'Python - attack of the snake' },\n",
    "        { 'name':'Jammie Tullin', 'type':'STARRED_IN', 'role':'normal actor', 'title':'4j4j' },\n",
    "        { 'name':'Tina Tuna',  'type':'STARRED_IN', 'role':'normal actor', 'title':'4j4j' },\n",
    "        { 'name':'Marry Murry', 'type':'STARRED_IN', 'role':'normal actor', 'title':'Mr.Bean4j' },\n",
    "        { 'name':'Julian Jingle', 'type':'STARRED_IN', 'role':'normal actor', 'title':'Mr.Bean4j' },\n",
    "        { 'name':'Sam Sum', 'type':'STARRED_IN', 'role':'normal actor', 'title':'Mr.Bean4j' },\n",
    "\n",
    "        { 'name':'Marry Murry', 'type':'STARRED_IN', 'role':'normal actor', 'title':'Neo4j' },\n",
    "\n",
    "        { 'name':'Julian Jingle', 'type':'STARRED_IN', 'role':'normal actor', 'title':'Matrix4j' },\n",
    "        { 'name':'Sam Sum', 'type':'STARRED_IN', 'role':'normal actor', 'title':'Matrix4j' },\n",
    "\n",
    "        { 'name':'Julian Jingle', 'type':'STARRED_IN', 'role':'normal actor', 'title':'Titanic4j' },\n",
    "        { 'name':'Sam Sum', 'type':'STARRED_IN', 'role':'normal actor', 'title':'Titanic4j' }\n",
    "    ]\n",
    "\n",
    "    for relation in relations:\n",
    "        result = _q(\n",
    "            \"\"\"\n",
    "                MATCH (p:Person), (m:Movie)\n",
    "                WHERE p.name = '%s' AND m.title = '%s'\n",
    "                CREATE (p) - [r:%s { role: '%s' }] -> (m)\n",
    "                RETURN p.name, type(r), r.role, m.title\n",
    "            \"\"\" % ( relation['name'], relation['title'], relation['type'], relation['role'])\n",
    "        )\n",
    "        for record in result: print(\"Relation created:\", record['p.name'], record['type(r)'], \"as\", record['r.role'], record['m.title'])\n",
    "\n",
    "    #---------------------------------------\n",
    "driver.close()"
   ]
  },
  {
   "cell_type": "markdown",
   "metadata": {
    "pycharm": {
     "name": "#%% md\n"
    }
   },
   "source": [
    "---\n",
    "### Get co-stars of Daniel: ###\n",
    "\n",
    "Now that we have created interesting datapoints on our database we'll go over retreiving data. <br>\n",
    "This is in fact the most exciting part about graph database, namely : Traversing them to get answers to difficultm questions. <br>\n",
    "One question would be : \"What co-stars dies 'Daniel Nepp' have?\" <br>\n",
    "Relational databases are notoriously difficult when such questions need to be answered because they require complex join operations that are hard to write, understand, and debug... <br>\n",
    "However graph-databases abstract complex key/foreign-key relationship trivialities away by providing the following syntax to query \"joins\", aka relations! :<br>\n",
    "\n",
    "`(pel:ParentEntityLabel) - [:RELATION_LABEL] -> (cel:ChildEntityLabel)`<br>\n",
    "\n",
    "Take a look : "
   ]
  },
  {
   "cell_type": "code",
   "execution_count": 7,
   "metadata": {
    "pycharm": {
     "name": "#%% code\n"
    }
   },
   "outputs": [
    {
     "name": "stdout",
     "output_type": "stream",
     "text": [
      "Daniel's co-star found: Marry Murry\n",
      "Daniel's co-star found: Lukas Hinterleitner\n"
     ]
    }
   ],
   "source": [
    "with driver.session() as session:\n",
    "    def _q(query) : return session.run(query)\n",
    "    #---------------------------------------\n",
    "\n",
    "    result = _q( # Note : \"<>\" means \"==\"\n",
    "        \"\"\"\n",
    "            MATCH\n",
    "                (p:Person {name:\"Daniel Nepp\"} ) - [:STARRED_IN] -> (m) <- [:STARRED_IN] - (coStar)\n",
    "            WHERE coStar.name <> p.name\n",
    "            RETURN DISTINCT coStar.name\n",
    "        \"\"\"\n",
    "    )\n",
    "    for record in result: print(\"Daniel's co-star found:\", record['coStar.name'] )\n",
    "\n",
    "    #---------------------------------------\n",
    "driver.close()"
   ]
  },
  {
   "cell_type": "markdown",
   "metadata": {
    "pycharm": {
     "name": "#%% md\n"
    }
   },
   "source": [
    "---\n",
    "### Find all people with their year of birth in the movie Neo4j: ###\n",
    "\n",
    "This way of traversing the graph to find requested result is very flexible.\n",
    "When it comes to \"WHERE\" conditions as one would expect them from relational databses then for the most part Neo4J's Cypher is not too different to already familiar concepts : <br> "
   ]
  },
  {
   "cell_type": "code",
   "execution_count": 8,
   "metadata": {
    "pycharm": {
     "name": "#%% code\n"
    }
   },
   "outputs": [
    {
     "name": "stdout",
     "output_type": "stream",
     "text": [
      "Star Marry Murry born in 1992 STARRED_IN as normal actor the movie Neo4j\n",
      "Star Daniel Nepp born in 1997 STARRED_IN as programmer the movie Neo4j\n",
      "Star Lukas Hinterleitner born in 1998 STARRED_IN as programmer the movie Neo4j\n"
     ]
    }
   ],
   "source": [
    "with driver.session() as session:\n",
    "    def _q(query) : return session.run(query)\n",
    "    #---------------------------------------\n",
    "\n",
    "    movie = \"Neo4j\"\n",
    "\n",
    "    result = _q(\n",
    "        \"\"\"\n",
    "            MATCH\n",
    "                (p:Person) - [r:STARRED_IN] -> (m:Movie)\n",
    "            WHERE m.title = \\\"{0}\\\"\n",
    "            RETURN p, type(r), r.role\n",
    "        \"\"\".format(movie)\n",
    "    )\n",
    "\n",
    "    for record in result:\n",
    "        print(\"Star %s born in %s %s as %s the movie %s\" % (record['p']['name'], record['p']['born'],\n",
    "                                                      record['type(r)'], record['r.role'], movie))\n",
    "\n",
    "    #---------------------------------------\n",
    "driver.close()"
   ]
  }
 ],
 "metadata": {
  "kernelspec": {
   "display_name": "Python 3",
   "language": "python",
   "name": "python3"
  },
  "language_info": {
   "codemirror_mode": {
    "name": "ipython",
    "version": 3
   },
   "file_extension": ".py",
   "mimetype": "text/x-python",
   "name": "python",
   "nbconvert_exporter": "python",
   "pygments_lexer": "ipython3",
   "version": "3.8.3"
  }
 },
 "nbformat": 4,
 "nbformat_minor": 4
}
